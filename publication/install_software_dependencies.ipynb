{
 "cells": [
  {
   "cell_type": "markdown",
   "id": "75fe73cd-d6c1-4258-b78d-ed500c0d206d",
   "metadata": {},
   "source": [
    "# Install software dependencies\n",
    "\n",
    "Software dependencies:\n",
    "\n",
    "* [SRA toolkit](https://ftp-trace.ncbi.nlm.nih.gov/sra/sdk/2.11.2/sratoolkit.2.11.2-ubuntu64.tar.gz) version 2.11.2\n",
    "* [samtools](http://www.htslib.org/) version 1.15\n",
    "* [pyCROQUET](https://github.com/cancerit/pycroquet) version 1.5.0 \n",
    "\n",
    "***\n",
    "\n",
    "## SRA Toolkit\n",
    "\n",
    "To download SRA FASTQs we used [SRA toolkit](https://ftp-trace.ncbi.nlm.nih.gov/sra/sdk/2.11.2/sratoolkit.2.11.2-ubuntu64.tar.gz) version 2.11.2 following the instructions [here](https://github.com/ncbi/sra-tools/wiki/01.-Downloading-SRA-Toolkit)."
   ]
  },
  {
   "cell_type": "code",
   "execution_count": null,
   "id": "5f58fe31-4d22-41d0-a379-1cb0ea31bea3",
   "metadata": {},
   "outputs": [],
   "source": [
    "cd bin\n",
    "# Download SRA toolkit\n",
    "wget https://ftp-trace.ncbi.nlm.nih.gov/sra/sdk/2.11.2/sratoolkit.2.11.2-ubuntu64.tar.gz\n",
    "# Uncompress\n",
    "tar -xf sratoolkit.2.11.2-ubuntu64.tar.gz\n",
    "# Remove tar file\n",
    "rm sratoolkit.2.11.2-ubuntu64.tar.gz\n",
    "cd .."
   ]
  },
  {
   "cell_type": "code",
   "execution_count": null,
   "id": "5990795b-240d-4e50-a2d2-38ef50e27990",
   "metadata": {},
   "outputs": [],
   "source": [
    "export PATH=$PATH:${PWD}/bin/sratoolkit.2.11.2-ubuntu64/bin"
   ]
  },
  {
   "cell_type": "code",
   "execution_count": null,
   "id": "43325c9f-35a8-45e0-bb01-f492d0ab4ee5",
   "metadata": {},
   "outputs": [],
   "source": [
    "fastq-dump --version"
   ]
  },
  {
   "cell_type": "markdown",
   "id": "fa58ffea-e4c1-4b0e-af20-c1bd3946b029",
   "metadata": {},
   "source": [
    "***\n",
    "\n",
    "## samtools\n",
    "\n",
    "SAM/BAM/CRAM format is the input requirement for pyCROQUET `dual-guide` mode. We used [samtools](http://www.htslib.org/) version 1.15 to convert paired-end FASTQ to BAM."
   ]
  },
  {
   "cell_type": "code",
   "execution_count": null,
   "id": "c840d720-1391-407c-8d3a-2687162eb2a5",
   "metadata": {},
   "outputs": [],
   "source": [
    "cd bin\n",
    "# Download samtools 1.15\n",
    "wget https://github.com/samtools/samtools/releases/download/1.15/samtools-1.15.tar.bz2\n",
    "# Uncompress\n",
    "tar -xf samtools-1.15.tar.bz2\n",
    "rm samtools-1.15.tar.bz2\n",
    "# Install samtools\n",
    "cd samtools-1.15    \n",
    "./configure --prefix=${PWD}\n",
    "make\n",
    "make install\n",
    "cd ../.."
   ]
  },
  {
   "cell_type": "code",
   "execution_count": null,
   "id": "a4b505cf-d6c3-4608-971d-f37f6f50dcb8",
   "metadata": {},
   "outputs": [],
   "source": [
    "export PATH=$PATH:${PWD}/bin/samtools-1.15/bin"
   ]
  },
  {
   "cell_type": "code",
   "execution_count": null,
   "id": "708f089a-7bef-4259-8fb9-193b304ec8d2",
   "metadata": {},
   "outputs": [],
   "source": [
    "samtools version"
   ]
  },
  {
   "cell_type": "markdown",
   "id": "f92c50c5-dc34-4c9b-b49b-0fb647e12b62",
   "metadata": {},
   "source": [
    "***\n",
    "\n",
    "## pyCROQUET\n",
    "\n",
    "Sample BAMs were quantified against guide libraries using [pyCROQUET](https://github.com/cancerit/pycroquet) version 1.5.0."
   ]
  },
  {
   "cell_type": "code",
   "execution_count": null,
   "id": "21f414ce-971e-43ba-8a6c-93778496f7a2",
   "metadata": {},
   "outputs": [],
   "source": [
    "python3 -m venv bin/pycroquet_1.5.1\n",
    "source bin/pycroquet_1.5.1/bin/activate\n",
    "pip install cython\n",
    "pip install pycroquet\n",
    "deactivate"
   ]
  }
 ],
 "metadata": {
  "kernelspec": {
   "display_name": "Bash",
   "language": "bash",
   "name": "bash"
  },
  "language_info": {
   "codemirror_mode": "shell",
   "file_extension": ".sh",
   "mimetype": "text/x-sh",
   "name": "bash"
  }
 },
 "nbformat": 4,
 "nbformat_minor": 5
}
