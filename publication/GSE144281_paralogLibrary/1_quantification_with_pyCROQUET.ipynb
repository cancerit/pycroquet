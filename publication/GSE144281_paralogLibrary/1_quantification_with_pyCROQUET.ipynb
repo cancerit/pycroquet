{
 "cells": [
  {
   "cell_type": "markdown",
   "id": "ecd4d4ed-f1ad-408a-92bb-ee8ce17c245d",
   "metadata": {},
   "source": [
    "# Quantification with pyCROQUET\n",
    "\n",
    "***\n",
    "\n",
    "## pyCROQUET input\n",
    "\n",
    "Dual guide quantification with pyCROQUET requires two types of input data:\n",
    "\n",
    "1. **guide library** (see [here](https://github.com/cancerit/pycroquet/wiki/Guide-library-format) for format guidance)   \n",
    "2. **reads** (SAM/BAM/CRAM)\n",
    "\n",
    "### Preparing the guide library\n",
    "\n",
    "For the purpose of this example, we can use the guide annotations in the raw count matrix to generate a [pyCROQUET-formatted](https://github.com/cancerit/pycroquet/wiki/Guide-library-format) library.\n",
    "\n",
    "The raw counts from Gonatopoulos-Pournatzis *et al.* can be found in GEO series [GSE144281](https://www.ncbi.nlm.nih.gov/geo/query/acc.cgi?acc=GSE144281) and contain guide-level annotations which we can use to build the library file.\n",
    "\n",
    "To download the raw count matrix:"
   ]
  },
  {
   "cell_type": "code",
   "execution_count": null,
   "id": "afac3950-cddd-438c-941d-9a3c6c0ea49a",
   "metadata": {},
   "outputs": [],
   "source": [
    "wget -P metadata https://ftp.ncbi.nlm.nih.gov/geo/series/GSE144nnn/GSE144281/suppl/GSE144281_paralogLibrary_rawCounts_NovaSeq_18Sept18.txt.gz\n",
    "gunzip metadata/GSE144281_paralogLibrary_rawCounts_NovaSeq_18Sept18.txt.gz"
   ]
  },
  {
   "cell_type": "markdown",
   "id": "71267a2d-1069-4102-810b-bb47c2ae5ec0",
   "metadata": {},
   "source": [
    "Now we have the count matrix, let's take a look at the first couple of lines (including the header):"
   ]
  },
  {
   "cell_type": "code",
   "execution_count": null,
   "id": "0c580c05-96f5-45d2-85e3-0cdbe4ddff1a",
   "metadata": {},
   "outputs": [],
   "source": [
    "head -2 metadata/GSE144281_paralogLibrary_rawCounts_NovaSeq_18Sept18.txt"
   ]
  },
  {
   "cell_type": "markdown",
   "id": "9b79a85b-1449-4072-af41-c129ccafdcaa",
   "metadata": {},
   "source": [
    "The pyCROQUET guide library format can be found [here](https://github.com/cancerit/pycroquet/wiki/Guide-library-format). The table below shows the mapping of count annotations with pyCROQUET fields.\n",
    "\n",
    "| pyCROQUET field | count annotation |\n",
    "| --- | --- |\n",
    "| id | ID |\n",
    "| sgrna_ids | Cas9.Target.Site \\| Cpf1.Target.Site |\n",
    "| sgrna_seqs | Cas9.Guide \\| Cpf1.Guide |\n",
    "| gene_pair_id | Gene.symbol1 \\| Gene.symbol2 |\n",
    "\n",
    "To build the pyCROQUET library from the count matrix annotations:"
   ]
  },
  {
   "cell_type": "code",
   "execution_count": null,
   "id": "33935e3e-4469-476f-904d-eb376a4f33a5",
   "metadata": {},
   "outputs": [],
   "source": [
    "awk -F\"\\t\" -v OFS=\"\\t\" '\n",
    "BEGIN{\n",
    "    print \"##library-type: dual\\n#id\\tsgrna_ids\\tsgrna_seqs\\tgene_pair_id\"\n",
    "} NR > 1 {\n",
    "    print $1, $5\"|\"$9, $7\"|\"$10, $3\"|\"$4\n",
    "}' metadata/GSE144281_paralogLibrary_rawCounts_NovaSeq_18Sept18.txt > metadata/GSE144281_paralogLibrary.pyCROQUET.tsv"
   ]
  },
  {
   "cell_type": "markdown",
   "id": "ac6725d3-3fb8-4fa8-8051-7b15cac828f2",
   "metadata": {},
   "source": [
    "Header lines are prefixed with `##` while the column headings are prefixed with just a single `#`. This is the minimal header and columns required for a pyCROQUET library, determining the library type (`dual`) and the column headings. Individual annotations for paired guides are separated by `|`."
   ]
  },
  {
   "cell_type": "code",
   "execution_count": null,
   "id": "5990aa5a-8013-4ec2-af22-6f9af2192b12",
   "metadata": {},
   "outputs": [],
   "source": [
    "head -3 metadata/GSE144281_paralogLibrary.pyCROQUET.tsv "
   ]
  },
  {
   "cell_type": "markdown",
   "id": "11139954-ad9c-4c09-8dbc-60922a39f47d",
   "metadata": {},
   "source": [
    "### Downloading FASTQ from SRA\n",
    "\n",
    "There are 23 samples for which we need the FASTQ files. For this, we used [SRA toolkit](https://ftp-trace.ncbi.nlm.nih.gov/sra/sdk/2.11.2/sratoolkit.2.11.2-ubuntu64.tar.gz) version 2.11.2 following the instructions [here](https://github.com/ncbi/sra-tools/wiki/01.-Downloading-SRA-Toolkit) for installation (see also [install_software_dependencies.ipynb](../install_software_dependencies.ipynb))."
   ]
  },
  {
   "cell_type": "code",
   "execution_count": null,
   "id": "04a12786-5751-4ef9-907c-d99682a48065",
   "metadata": {},
   "outputs": [],
   "source": [
    "export PATH=$PATH:${PWD}/../bin/sratoolkit.2.11.2-ubuntu64/bin"
   ]
  },
  {
   "cell_type": "markdown",
   "id": "ba17ef1d-bc2d-4012-8ff7-ebd77da14545",
   "metadata": {},
   "source": [
    "First, we get the SRA run accessions for the 23 sample paired end FASTQs we want to download."
   ]
  },
  {
   "cell_type": "code",
   "execution_count": null,
   "id": "d3907ad0-e8e0-49ac-b13a-9ec2574bf176",
   "metadata": {},
   "outputs": [],
   "source": [
    "run_ids=($(awk -F\"\\t\" 'NR > 1 && NR < 25 {print $2}' metadata/PRJNA603290_GSE144281_sample_metadata.tsv))\n",
    "printf \"%s\\n\" \"${run_ids[@]}\""
   ]
  },
  {
   "cell_type": "markdown",
   "id": "67866a25-4821-449e-9166-e75ea6c028a3",
   "metadata": {},
   "source": [
    "We use `fastq-dump` to download processed FASTQ from the SRA with the `--split-files` parameter to split the paired end reads into two separate FASTQ files and compress them (`--gzip`):\n",
    "\n",
    "```\n",
    "for rid in \"${run_ids[@]}\"\n",
    "do\n",
    "    fastq-dump --split-files --gzip --outdir data \"${rid}\"\n",
    "done\n",
    "```\n",
    "\n",
    "Looping over the SRA identifiers, we used LSF to submit these as jobs, but alternatively you can just run the command `fastq-dump --split-files --gzip --outdir data \"${rid}\"` without the `bsub` code to get the files (as above)."
   ]
  },
  {
   "cell_type": "code",
   "execution_count": null,
   "id": "0ea7679e-826c-4cdf-995a-581c696143c5",
   "metadata": {},
   "outputs": [],
   "source": [
    "fastq-dump --version"
   ]
  },
  {
   "cell_type": "code",
   "execution_count": null,
   "id": "e5a1b60d-dc19-46b1-9cc0-c53df0d3f014",
   "metadata": {},
   "outputs": [],
   "source": [
    "for rid in \"${run_ids[@]}\"\n",
    "do\n",
    "    bsub -e \"logs/${rid}.fastq_dump.e\" -o \"logs/${rid}.fastq_dump.o\" -q normal -M 3000 -R'select[mem>3000] rusage[mem=3000] span[hosts=1]' fastq-dump --split-files --gzip --outdir data \"${rid}\"\n",
    "done"
   ]
  },
  {
   "cell_type": "markdown",
   "id": "d841e8dd-a962-44be-a811-6d4c410b90c9",
   "metadata": {},
   "source": [
    "We use [samtools](http://www.htslib.org/) version 1.15 (see [install_software_dependencies.ipynb](../install_software_dependencies.ipynb)) to convert paired-end FASTQ to BAM (with `-1` and `-2` as R2 and R1 respectively - i.e. swapped). This is because `dual-guide` mode accepts only SAM, BAM or CRAM."
   ]
  },
  {
   "cell_type": "code",
   "execution_count": null,
   "id": "a23fa74b-a685-4b0d-8e7b-3c02c18eafbb",
   "metadata": {},
   "outputs": [],
   "source": [
    "export PATH=$PATH:${PWD}/../bin/samtools-1.15/bin"
   ]
  },
  {
   "cell_type": "code",
   "execution_count": null,
   "id": "7d9f34f1-5d8b-49c3-867f-46a41935189c",
   "metadata": {},
   "outputs": [],
   "source": [
    "samtools version"
   ]
  },
  {
   "cell_type": "code",
   "execution_count": null,
   "id": "a255722e-aa96-43fc-8b38-e6ad2dd56a6b",
   "metadata": {},
   "outputs": [],
   "source": [
    "for rid in \"${run_ids[@]}\"\n",
    "do\n",
    "    echo \"Converting ${rid}...\"\n",
    "    bsub -e \"logs/${rid}.samtools.e\" -o \"logs/${rid}.samtools.o\" -q normal -M 3000 -R'select[mem>3000] rusage[mem=3000] span[hosts=1]' samtools import -N -1 \"data/${rid}_2.fastq.gz\" -2 \"data/${rid}_1.fastq.gz\" -O BAM -o \"data/${rid}.bam\"\n",
    "done"
   ]
  },
  {
   "cell_type": "markdown",
   "id": "c5c13a12-b778-4c94-ab45-042f29d4fc9d",
   "metadata": {},
   "source": [
    "***\n",
    "\n",
    "## Running pyCROQUET\n",
    "\n",
    "Sample BAMs were quantified against the [guide library](metadata/GSE144281_paralogLibrary.pyCROQUET.tsv) using [pyCROQUET](https://github.com/cancerit/pycroquet) version 1.5.0 (see [install_software_dependencies.ipynb](../install_software_dependencies.ipynb)) using the `dual-guide` mode, `TinQ` ( target in query) boundary mode, 50000 `chunks` with `exact` (no rules) matching, allowing 1 mismatch (`--rules M`), allowing 2 mismatches (`--rules MM`) or allowing 3 mismatches (`--rules MMM`)."
   ]
  },
  {
   "cell_type": "code",
   "execution_count": null,
   "id": "f8b58dcc-94b8-4488-b2f7-3ef487501a73",
   "metadata": {},
   "outputs": [],
   "source": [
    "source ../bin/pycroquet_1.5.1/bin/activate\n",
    "pycroquet --version"
   ]
  },
  {
   "cell_type": "code",
   "execution_count": null,
   "id": "3c3e72af-1d60-41d4-80b4-64deaf66179a",
   "metadata": {},
   "outputs": [],
   "source": [
    "for rid in \"${run_ids[@]}\"\n",
    "do\n",
    "    bsub -e \"logs/${rid}.pycroquet.exact.e\" -o \"logs/${rid}.pycroquet.exact.o\" -q long -J \"${rid}.pycroquet.exact\" -M 36000 -R'select[mem>36000] rusage[mem=36000] span[hosts=1]' -n 6 pycroquet dual-guide -g metadata/GSE144281_paralogLibrary.pyCROQUET.tsv -q \"data/${rid}.bam\" -s \"${rid}\" -o \"results/${rid}_exact\" -c 6 -b TinQ --chunks 50000 -w \"tmp/${rid}_exact\"\n",
    "    bsub -e \"logs/${rid}.pycroquet.1M.e\" -o \"logs/${rid}.pycroquet.1M.o\" -q basement -J \"${rid}.pycroquet.1M\" -M 36000 -R'select[mem>36000] rusage[mem=36000] span[hosts=1]' -n 6 pycroquet dual-guide -g metadata/GSE144281_paralogLibrary.pyCROQUET.tsv -q \"data/${rid}.bam\" -s \"${rid}\" -o \"results/${rid}_1M\" -c 6 -b TinQ --chunks 50000 --rules M -w \"tmp/${rid}_1M\"\n",
    "    bsub -e \"logs/${rid}.pycroquet.2M.e\" -o \"logs/${rid}.pycroquet.2M.o\" -q basement -J \"${rid}.pycroquet.2M\" -M 36000 -R'select[mem>36000] rusage[mem=36000] span[hosts=1]' -n 6 pycroquet dual-guide -g metadata/GSE144281_paralogLibrary.pyCROQUET.tsv -q \"data/${rid}.bam\" -s \"${rid}\" -o \"results/${rid}_2M\" -c 6 -b TinQ --chunks 50000 --rules MM -w \"tmp/${rid}_2M\"\n",
    "    bsub -e \"logs/${rid}.pycroquet.3M.e\" -o \"logs/${rid}.pycroquet.3M.o\" -q basement -J \"${rid}.pycroquet.3M\" -M 36000 -R'select[mem>36000] rusage[mem=36000] span[hosts=1]' -n 6 pycroquet dual-guide -g metadata/GSE144281_paralogLibrary.pyCROQUET.tsv -q \"data/${rid}.bam\" -s \"${rid}\" -o \"results/${rid}_3M\" -c 6 -b TinQ --chunks 50000 --rules MMM -w \"tmp/${rid}_3M\"\n",
    "done"
   ]
  },
  {
   "cell_type": "code",
   "execution_count": null,
   "id": "e5d2576a-aa65-4863-b6e2-9d1d999ea426",
   "metadata": {},
   "outputs": [],
   "source": [
    "deactivate"
   ]
  },
  {
   "cell_type": "markdown",
   "id": "4ebe587e-3248-47cf-a20b-6e865093471a",
   "metadata": {},
   "source": [
    "***\n",
    "\n",
    "## pyCROQUET output\n",
    "\n"
   ]
  },
  {
   "cell_type": "markdown",
   "id": "3c10fdc3-2daf-4167-ad8f-bd32a524ee85",
   "metadata": {},
   "source": [
    "Results from pyCROQUET are stored in the `results` directory:\n",
    "\n",
    "* `*.counts.tsv.gz` - pyCROQUET-formatted guide abundance\n",
    "* `*.stats.json` - JSON-formatted screen statistics (e.g. number of reads, number of guides, coverage)\n",
    "* `*.query_class.tsv.gz` - pyCROQUET-formatted unique read sequence abundance\n",
    "* `*.cram|*.cram.crai` - CRAM alignment of reads to guides\n",
    "\n",
    "For more information, please see the [pyCROQUET  Wiki](https://github.com/cancerit/pycroquet/wiki). Intermediate files are stored in `tmp` (the path for these can be set using the `-w` parameter).\n",
    "\n",
    "*Note: log files (`*.o` or `*.e`) were written in `logs` and are generated by LSF and not pyCROQUET. Log files are not included in this repository.*\n",
    "\n",
    "We compare the expected counts to the expected_counts (i.e. the published raw counts) to our observed counts (generated by pyCROQUET) in [2_compare_expected_and_observed_counts.ipynb](2_compare_expected_and_observed_counts.ipynb)."
   ]
  }
 ],
 "metadata": {
  "kernelspec": {
   "display_name": "Bash",
   "language": "bash",
   "name": "bash"
  },
  "language_info": {
   "codemirror_mode": "shell",
   "file_extension": ".sh",
   "mimetype": "text/x-sh",
   "name": "bash"
  },
  "widgets": {
   "application/vnd.jupyter.widget-state+json": {
    "state": {},
    "version_major": 2,
    "version_minor": 0
   }
  }
 },
 "nbformat": 4,
 "nbformat_minor": 5
}
