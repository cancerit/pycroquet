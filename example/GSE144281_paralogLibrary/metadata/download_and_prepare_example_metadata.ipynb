{
 "cells": [
  {
   "cell_type": "markdown",
   "id": "db5cc59a-daa9-4523-aed3-f1ef71b9dbd9",
   "metadata": {},
   "source": [
    "# Downloading and preparing example metadata\n",
    "\n",
    "A diagenic (dual guide) experiment which targets paralogs was used to provide an example of combinatorial CRISPR screen quantification with pyCROQUET. The publication associated with this dataset is:\n",
    "\n",
    ">Gonatopoulos-Pournatzis, T., Aregger, M., Brown, K.R. et al.   \n",
    ">**Genetic interaction mapping and exon-resolution functional genomics with a hybrid Cas9–Cas12a platform.**.   \n",
    ">*Nat Biotechnol 38, 638–648 (2020).*   \n",
    ">https://doi.org/10.1038/s41587-020-0437-z\n",
    "\n",
    "Data availability:\n",
    "\n",
    "* [GEO series GSE144281](https://www.ncbi.nlm.nih.gov/geo/query/acc.cgi?acc=GSE144281) - raw counts and sample metadata \n",
    "* [SRA project PRJNA603290](https://www.ncbi.nlm.nih.gov/Traces/study/?acc=PRJNA603290&o=acc_s%3Aa) - raw sequencing (FASTQ) and run metadata\n",
    "\n",
    "This notebook is designed to run with the R kernal. Alternatively, with the repository downloaded, these commands could be run directly in R/RStudio. You will need to install the [tidyverse](https://cran.r-project.org/web/packages/tidyverse/index.html) library, if it is not already present.\n",
    "\n",
    "***\n",
    "\n",
    "We manually created an SRA run identifier (e.g. SRR10969645) to sample identifier (e.g. HH-79) mapping. From this we can download and merge the sample metadata, such as the sample labels used in the expected(CHyMErA) count matrix, and the SRA metadata, such as the FASTQ filenames associated with each sample.\n",
    "\n",
    "1. Load R library dependencies."
   ]
  },
  {
   "cell_type": "code",
   "execution_count": 1,
   "id": "53a6b3c1-f94c-443c-a8c6-1c1b0876a136",
   "metadata": {},
   "outputs": [
    {
     "name": "stderr",
     "output_type": "stream",
     "text": [
      "── \u001b[1mAttaching packages\u001b[22m ─────────────────────────────────────── tidyverse 1.3.1 ──\n",
      "\n",
      "\u001b[32m✔\u001b[39m \u001b[34mggplot2\u001b[39m 3.3.5     \u001b[32m✔\u001b[39m \u001b[34mpurrr  \u001b[39m 0.3.4\n",
      "\u001b[32m✔\u001b[39m \u001b[34mtibble \u001b[39m 3.1.6     \u001b[32m✔\u001b[39m \u001b[34mdplyr  \u001b[39m 1.0.7\n",
      "\u001b[32m✔\u001b[39m \u001b[34mtidyr  \u001b[39m 1.2.0     \u001b[32m✔\u001b[39m \u001b[34mstringr\u001b[39m 1.4.0\n",
      "\u001b[32m✔\u001b[39m \u001b[34mreadr  \u001b[39m 2.1.2     \u001b[32m✔\u001b[39m \u001b[34mforcats\u001b[39m 0.5.1\n",
      "\n",
      "── \u001b[1mConflicts\u001b[22m ────────────────────────────────────────── tidyverse_conflicts() ──\n",
      "\u001b[31m✖\u001b[39m \u001b[34mdplyr\u001b[39m::\u001b[32mfilter()\u001b[39m masks \u001b[34mstats\u001b[39m::filter()\n",
      "\u001b[31m✖\u001b[39m \u001b[34mdplyr\u001b[39m::\u001b[32mlag()\u001b[39m    masks \u001b[34mstats\u001b[39m::lag()\n",
      "\n"
     ]
    }
   ],
   "source": [
    "# Load R libraries\n",
    "library(tidyverse)"
   ]
  },
  {
   "cell_type": "markdown",
   "id": "ee173bb3-342b-4e74-8957-d4b65a068b85",
   "metadata": {},
   "source": [
    "2. Read in SRA run to sample id mapping (manually generated)."
   ]
  },
  {
   "cell_type": "code",
   "execution_count": 2,
   "id": "e2d9253c-5ab6-4559-9b39-5e6c2495f3a3",
   "metadata": {},
   "outputs": [
    {
     "data": {
      "text/html": [
       "<table class=\"dataframe\">\n",
       "<caption>A data.frame: 6 × 2</caption>\n",
       "<thead>\n",
       "\t<tr><th></th><th scope=col>Sample.ID</th><th scope=col>Run</th></tr>\n",
       "\t<tr><th></th><th scope=col>&lt;chr&gt;</th><th scope=col>&lt;chr&gt;</th></tr>\n",
       "</thead>\n",
       "<tbody>\n",
       "\t<tr><th scope=row>1</th><td>HH-79</td><td>SRR10969645</td></tr>\n",
       "\t<tr><th scope=row>2</th><td>HH-80</td><td>SRR10969649</td></tr>\n",
       "\t<tr><th scope=row>3</th><td>HH-81</td><td>SRR10969650</td></tr>\n",
       "\t<tr><th scope=row>4</th><td>HH-82</td><td>SRR10969651</td></tr>\n",
       "\t<tr><th scope=row>5</th><td>HH-83</td><td>SRR10969661</td></tr>\n",
       "\t<tr><th scope=row>6</th><td>HH-84</td><td>SRR10969665</td></tr>\n",
       "</tbody>\n",
       "</table>\n"
      ],
      "text/latex": [
       "A data.frame: 6 × 2\n",
       "\\begin{tabular}{r|ll}\n",
       "  & Sample.ID & Run\\\\\n",
       "  & <chr> & <chr>\\\\\n",
       "\\hline\n",
       "\t1 & HH-79 & SRR10969645\\\\\n",
       "\t2 & HH-80 & SRR10969649\\\\\n",
       "\t3 & HH-81 & SRR10969650\\\\\n",
       "\t4 & HH-82 & SRR10969651\\\\\n",
       "\t5 & HH-83 & SRR10969661\\\\\n",
       "\t6 & HH-84 & SRR10969665\\\\\n",
       "\\end{tabular}\n"
      ],
      "text/markdown": [
       "\n",
       "A data.frame: 6 × 2\n",
       "\n",
       "| <!--/--> | Sample.ID &lt;chr&gt; | Run &lt;chr&gt; |\n",
       "|---|---|---|\n",
       "| 1 | HH-79 | SRR10969645 |\n",
       "| 2 | HH-80 | SRR10969649 |\n",
       "| 3 | HH-81 | SRR10969650 |\n",
       "| 4 | HH-82 | SRR10969651 |\n",
       "| 5 | HH-83 | SRR10969661 |\n",
       "| 6 | HH-84 | SRR10969665 |\n",
       "\n"
      ],
      "text/plain": [
       "  Sample.ID Run        \n",
       "1 HH-79     SRR10969645\n",
       "2 HH-80     SRR10969649\n",
       "3 HH-81     SRR10969650\n",
       "4 HH-82     SRR10969651\n",
       "5 HH-83     SRR10969661\n",
       "6 HH-84     SRR10969665"
      ]
     },
     "metadata": {},
     "output_type": "display_data"
    }
   ],
   "source": [
    "# Read in SRA run ID to sample mapping\n",
    "sra_run_to_sample_id <- read.table('sra_run_to_sample_id.tsv', header = T, sep = \"\\t\")\n",
    "\n",
    "# Preview data\n",
    "head(sra_run_to_sample_id)"
   ]
  },
  {
   "cell_type": "markdown",
   "id": "86aec6a5-ae9e-4d89-ba5c-ed66947e4224",
   "metadata": {},
   "source": [
    "3. Download sample name to sample id mapping from GEO from [GSE144281 supplementary file](https://www.ncbi.nlm.nih.gov/geo/query/acc.cgi?acc=GSE144281)."
   ]
  },
  {
   "cell_type": "code",
   "execution_count": 3,
   "id": "8763f1f5-e61c-4e4b-94dd-245a41ef0577",
   "metadata": {},
   "outputs": [
    {
     "data": {
      "text/html": [
       "<table class=\"dataframe\">\n",
       "<caption>A data.frame: 6 × 12</caption>\n",
       "<thead>\n",
       "\t<tr><th></th><th scope=col>Dataset</th><th scope=col>Sample.ID</th><th scope=col>Sample.Name</th><th scope=col>Label</th><th scope=col>R1</th><th scope=col>R2</th><th scope=col>md5sum.R1</th><th scope=col>md5sum.R2</th><th scope=col>Summary.File</th><th scope=col>Read.Length</th><th scope=col>X</th><th scope=col>X.1</th></tr>\n",
       "\t<tr><th></th><th scope=col>&lt;chr&gt;</th><th scope=col>&lt;chr&gt;</th><th scope=col>&lt;chr&gt;</th><th scope=col>&lt;chr&gt;</th><th scope=col>&lt;chr&gt;</th><th scope=col>&lt;chr&gt;</th><th scope=col>&lt;chr&gt;</th><th scope=col>&lt;chr&gt;</th><th scope=col>&lt;chr&gt;</th><th scope=col>&lt;chr&gt;</th><th scope=col>&lt;chr&gt;</th><th scope=col>&lt;chr&gt;</th></tr>\n",
       "</thead>\n",
       "<tbody>\n",
       "\t<tr><th scope=row>1</th><td>HumanAndMouseOptimization_NovaSeq_20171205</td><td>MH-5 </td><td>N2a T6_Lb_A </td><td>N2A_Lb_T6A </td><td>Blencowe_1_MH-5_S1_R1_001.fastq.gz </td><td>Blencowe_1_MH-5_S1_R2_001.fastq.gz </td><td>2fed71c28d92a36706beb2c8c2245b0b</td><td>5f7d86c8bf666a9970849969f855ee3d</td><td>Blencowe_1_MH-5_counts.txt </td><td>151bp</td><td>151bp</td><td>Illumina NovaSeq5000</td></tr>\n",
       "\t<tr><th scope=row>2</th><td>HumanAndMouseOptimization_NovaSeq_20171205</td><td>MH-6 </td><td>N2a T6_Lb_B </td><td>N2A_Lb_T6B </td><td>Blencowe_2_MH-6_S2_R1_001.fastq.gz </td><td>Blencowe_2_MH-6_S2_R2_001.fastq.gz </td><td>215619cd4e6e043431f6e6ef56386408</td><td>f03e8fd322146d49fd72797eb85029bb</td><td>Blencowe_2_MH-6_counts.txt </td><td>151bp</td><td>151bp</td><td>Illumina NovaSeq5000</td></tr>\n",
       "\t<tr><th scope=row>3</th><td>HumanAndMouseOptimization_NovaSeq_20171205</td><td>MH-7 </td><td>N2a T6_Lb_C </td><td>N2A_Lb_T6C </td><td>Blencowe_3_MH-7_S3_R1_001.fastq.gz </td><td>Blencowe_3_MH-7_S3_R2_001.fastq.gz </td><td>0db7bb50fb0ba1c487b7f544e359ad06</td><td>86621956022f4042e33286d3482e8ee0</td><td>Blencowe_3_MH-7_counts.txt </td><td>151bp</td><td>151bp</td><td>Illumina NovaSeq5000</td></tr>\n",
       "\t<tr><th scope=row>4</th><td>HumanAndMouseOptimization_NovaSeq_20171205</td><td>MH-8 </td><td>CGR8 T6_Lb_A</td><td>CGR8_Lb_T6A</td><td>Blencowe_4_MH-8_S4_R1_001.fastq.gz </td><td>Blencowe_4_MH-8_S4_R2_001.fastq.gz </td><td>583d907d9d8f57e0905abd4056e260ba</td><td>c9738a700f37be83f468a6788336faa6</td><td>Blencowe_4_MH-8_counts.txt </td><td>151bp</td><td>151bp</td><td>Illumina NovaSeq5000</td></tr>\n",
       "\t<tr><th scope=row>5</th><td>HumanAndMouseOptimization_NovaSeq_20171205</td><td>MH-9 </td><td>CGR8 T6_Lb_B</td><td>CGR8_Lb_T6B</td><td>Blencowe_5_MH-9_S5_R1_001.fastq.gz </td><td>Blencowe_5_MH-9_S5_R2_001.fastq.gz </td><td>bb5dc892f35ecaa0eac66b0eeb0a4769</td><td>bd9a0dedfb27ef11a241a89fc1fb0b8f</td><td>Blencowe_5_MH-9_counts.txt </td><td>151bp</td><td>151bp</td><td>Illumina NovaSeq5000</td></tr>\n",
       "\t<tr><th scope=row>6</th><td>HumanAndMouseOptimization_NovaSeq_20171205</td><td>MH-10</td><td>CGR8 T6_Lb_C</td><td>CGR8_Lb_T6C</td><td>Blencowe_6_MH-10_S6_R1_001.fastq.gz</td><td>Blencowe_6_MH-10_S6_R2_001.fastq.gz</td><td>c35f5cddb23ec078b35e1a1f25bf6c8c</td><td>a4e0c0f6d7ebcedd8d4ab9059e01de59</td><td>Blencowe_6_MH-10_counts.txt</td><td>151bp</td><td>151bp</td><td>Illumina NovaSeq5000</td></tr>\n",
       "</tbody>\n",
       "</table>\n"
      ],
      "text/latex": [
       "A data.frame: 6 × 12\n",
       "\\begin{tabular}{r|llllllllllll}\n",
       "  & Dataset & Sample.ID & Sample.Name & Label & R1 & R2 & md5sum.R1 & md5sum.R2 & Summary.File & Read.Length & X & X.1\\\\\n",
       "  & <chr> & <chr> & <chr> & <chr> & <chr> & <chr> & <chr> & <chr> & <chr> & <chr> & <chr> & <chr>\\\\\n",
       "\\hline\n",
       "\t1 & HumanAndMouseOptimization\\_NovaSeq\\_20171205 & MH-5  & N2a T6\\_Lb\\_A  & N2A\\_Lb\\_T6A  & Blencowe\\_1\\_MH-5\\_S1\\_R1\\_001.fastq.gz  & Blencowe\\_1\\_MH-5\\_S1\\_R2\\_001.fastq.gz  & 2fed71c28d92a36706beb2c8c2245b0b & 5f7d86c8bf666a9970849969f855ee3d & Blencowe\\_1\\_MH-5\\_counts.txt  & 151bp & 151bp & Illumina NovaSeq5000\\\\\n",
       "\t2 & HumanAndMouseOptimization\\_NovaSeq\\_20171205 & MH-6  & N2a T6\\_Lb\\_B  & N2A\\_Lb\\_T6B  & Blencowe\\_2\\_MH-6\\_S2\\_R1\\_001.fastq.gz  & Blencowe\\_2\\_MH-6\\_S2\\_R2\\_001.fastq.gz  & 215619cd4e6e043431f6e6ef56386408 & f03e8fd322146d49fd72797eb85029bb & Blencowe\\_2\\_MH-6\\_counts.txt  & 151bp & 151bp & Illumina NovaSeq5000\\\\\n",
       "\t3 & HumanAndMouseOptimization\\_NovaSeq\\_20171205 & MH-7  & N2a T6\\_Lb\\_C  & N2A\\_Lb\\_T6C  & Blencowe\\_3\\_MH-7\\_S3\\_R1\\_001.fastq.gz  & Blencowe\\_3\\_MH-7\\_S3\\_R2\\_001.fastq.gz  & 0db7bb50fb0ba1c487b7f544e359ad06 & 86621956022f4042e33286d3482e8ee0 & Blencowe\\_3\\_MH-7\\_counts.txt  & 151bp & 151bp & Illumina NovaSeq5000\\\\\n",
       "\t4 & HumanAndMouseOptimization\\_NovaSeq\\_20171205 & MH-8  & CGR8 T6\\_Lb\\_A & CGR8\\_Lb\\_T6A & Blencowe\\_4\\_MH-8\\_S4\\_R1\\_001.fastq.gz  & Blencowe\\_4\\_MH-8\\_S4\\_R2\\_001.fastq.gz  & 583d907d9d8f57e0905abd4056e260ba & c9738a700f37be83f468a6788336faa6 & Blencowe\\_4\\_MH-8\\_counts.txt  & 151bp & 151bp & Illumina NovaSeq5000\\\\\n",
       "\t5 & HumanAndMouseOptimization\\_NovaSeq\\_20171205 & MH-9  & CGR8 T6\\_Lb\\_B & CGR8\\_Lb\\_T6B & Blencowe\\_5\\_MH-9\\_S5\\_R1\\_001.fastq.gz  & Blencowe\\_5\\_MH-9\\_S5\\_R2\\_001.fastq.gz  & bb5dc892f35ecaa0eac66b0eeb0a4769 & bd9a0dedfb27ef11a241a89fc1fb0b8f & Blencowe\\_5\\_MH-9\\_counts.txt  & 151bp & 151bp & Illumina NovaSeq5000\\\\\n",
       "\t6 & HumanAndMouseOptimization\\_NovaSeq\\_20171205 & MH-10 & CGR8 T6\\_Lb\\_C & CGR8\\_Lb\\_T6C & Blencowe\\_6\\_MH-10\\_S6\\_R1\\_001.fastq.gz & Blencowe\\_6\\_MH-10\\_S6\\_R2\\_001.fastq.gz & c35f5cddb23ec078b35e1a1f25bf6c8c & a4e0c0f6d7ebcedd8d4ab9059e01de59 & Blencowe\\_6\\_MH-10\\_counts.txt & 151bp & 151bp & Illumina NovaSeq5000\\\\\n",
       "\\end{tabular}\n"
      ],
      "text/markdown": [
       "\n",
       "A data.frame: 6 × 12\n",
       "\n",
       "| <!--/--> | Dataset &lt;chr&gt; | Sample.ID &lt;chr&gt; | Sample.Name &lt;chr&gt; | Label &lt;chr&gt; | R1 &lt;chr&gt; | R2 &lt;chr&gt; | md5sum.R1 &lt;chr&gt; | md5sum.R2 &lt;chr&gt; | Summary.File &lt;chr&gt; | Read.Length &lt;chr&gt; | X &lt;chr&gt; | X.1 &lt;chr&gt; |\n",
       "|---|---|---|---|---|---|---|---|---|---|---|---|---|\n",
       "| 1 | HumanAndMouseOptimization_NovaSeq_20171205 | MH-5  | N2a T6_Lb_A  | N2A_Lb_T6A  | Blencowe_1_MH-5_S1_R1_001.fastq.gz  | Blencowe_1_MH-5_S1_R2_001.fastq.gz  | 2fed71c28d92a36706beb2c8c2245b0b | 5f7d86c8bf666a9970849969f855ee3d | Blencowe_1_MH-5_counts.txt  | 151bp | 151bp | Illumina NovaSeq5000 |\n",
       "| 2 | HumanAndMouseOptimization_NovaSeq_20171205 | MH-6  | N2a T6_Lb_B  | N2A_Lb_T6B  | Blencowe_2_MH-6_S2_R1_001.fastq.gz  | Blencowe_2_MH-6_S2_R2_001.fastq.gz  | 215619cd4e6e043431f6e6ef56386408 | f03e8fd322146d49fd72797eb85029bb | Blencowe_2_MH-6_counts.txt  | 151bp | 151bp | Illumina NovaSeq5000 |\n",
       "| 3 | HumanAndMouseOptimization_NovaSeq_20171205 | MH-7  | N2a T6_Lb_C  | N2A_Lb_T6C  | Blencowe_3_MH-7_S3_R1_001.fastq.gz  | Blencowe_3_MH-7_S3_R2_001.fastq.gz  | 0db7bb50fb0ba1c487b7f544e359ad06 | 86621956022f4042e33286d3482e8ee0 | Blencowe_3_MH-7_counts.txt  | 151bp | 151bp | Illumina NovaSeq5000 |\n",
       "| 4 | HumanAndMouseOptimization_NovaSeq_20171205 | MH-8  | CGR8 T6_Lb_A | CGR8_Lb_T6A | Blencowe_4_MH-8_S4_R1_001.fastq.gz  | Blencowe_4_MH-8_S4_R2_001.fastq.gz  | 583d907d9d8f57e0905abd4056e260ba | c9738a700f37be83f468a6788336faa6 | Blencowe_4_MH-8_counts.txt  | 151bp | 151bp | Illumina NovaSeq5000 |\n",
       "| 5 | HumanAndMouseOptimization_NovaSeq_20171205 | MH-9  | CGR8 T6_Lb_B | CGR8_Lb_T6B | Blencowe_5_MH-9_S5_R1_001.fastq.gz  | Blencowe_5_MH-9_S5_R2_001.fastq.gz  | bb5dc892f35ecaa0eac66b0eeb0a4769 | bd9a0dedfb27ef11a241a89fc1fb0b8f | Blencowe_5_MH-9_counts.txt  | 151bp | 151bp | Illumina NovaSeq5000 |\n",
       "| 6 | HumanAndMouseOptimization_NovaSeq_20171205 | MH-10 | CGR8 T6_Lb_C | CGR8_Lb_T6C | Blencowe_6_MH-10_S6_R1_001.fastq.gz | Blencowe_6_MH-10_S6_R2_001.fastq.gz | c35f5cddb23ec078b35e1a1f25bf6c8c | a4e0c0f6d7ebcedd8d4ab9059e01de59 | Blencowe_6_MH-10_counts.txt | 151bp | 151bp | Illumina NovaSeq5000 |\n",
       "\n"
      ],
      "text/plain": [
       "  Dataset                                    Sample.ID Sample.Name  Label      \n",
       "1 HumanAndMouseOptimization_NovaSeq_20171205 MH-5      N2a T6_Lb_A  N2A_Lb_T6A \n",
       "2 HumanAndMouseOptimization_NovaSeq_20171205 MH-6      N2a T6_Lb_B  N2A_Lb_T6B \n",
       "3 HumanAndMouseOptimization_NovaSeq_20171205 MH-7      N2a T6_Lb_C  N2A_Lb_T6C \n",
       "4 HumanAndMouseOptimization_NovaSeq_20171205 MH-8      CGR8 T6_Lb_A CGR8_Lb_T6A\n",
       "5 HumanAndMouseOptimization_NovaSeq_20171205 MH-9      CGR8 T6_Lb_B CGR8_Lb_T6B\n",
       "6 HumanAndMouseOptimization_NovaSeq_20171205 MH-10     CGR8 T6_Lb_C CGR8_Lb_T6C\n",
       "  R1                                  R2                                 \n",
       "1 Blencowe_1_MH-5_S1_R1_001.fastq.gz  Blencowe_1_MH-5_S1_R2_001.fastq.gz \n",
       "2 Blencowe_2_MH-6_S2_R1_001.fastq.gz  Blencowe_2_MH-6_S2_R2_001.fastq.gz \n",
       "3 Blencowe_3_MH-7_S3_R1_001.fastq.gz  Blencowe_3_MH-7_S3_R2_001.fastq.gz \n",
       "4 Blencowe_4_MH-8_S4_R1_001.fastq.gz  Blencowe_4_MH-8_S4_R2_001.fastq.gz \n",
       "5 Blencowe_5_MH-9_S5_R1_001.fastq.gz  Blencowe_5_MH-9_S5_R2_001.fastq.gz \n",
       "6 Blencowe_6_MH-10_S6_R1_001.fastq.gz Blencowe_6_MH-10_S6_R2_001.fastq.gz\n",
       "  md5sum.R1                        md5sum.R2                       \n",
       "1 2fed71c28d92a36706beb2c8c2245b0b 5f7d86c8bf666a9970849969f855ee3d\n",
       "2 215619cd4e6e043431f6e6ef56386408 f03e8fd322146d49fd72797eb85029bb\n",
       "3 0db7bb50fb0ba1c487b7f544e359ad06 86621956022f4042e33286d3482e8ee0\n",
       "4 583d907d9d8f57e0905abd4056e260ba c9738a700f37be83f468a6788336faa6\n",
       "5 bb5dc892f35ecaa0eac66b0eeb0a4769 bd9a0dedfb27ef11a241a89fc1fb0b8f\n",
       "6 c35f5cddb23ec078b35e1a1f25bf6c8c a4e0c0f6d7ebcedd8d4ab9059e01de59\n",
       "  Summary.File                Read.Length X     X.1                 \n",
       "1 Blencowe_1_MH-5_counts.txt  151bp       151bp Illumina NovaSeq5000\n",
       "2 Blencowe_2_MH-6_counts.txt  151bp       151bp Illumina NovaSeq5000\n",
       "3 Blencowe_3_MH-7_counts.txt  151bp       151bp Illumina NovaSeq5000\n",
       "4 Blencowe_4_MH-8_counts.txt  151bp       151bp Illumina NovaSeq5000\n",
       "5 Blencowe_5_MH-9_counts.txt  151bp       151bp Illumina NovaSeq5000\n",
       "6 Blencowe_6_MH-10_counts.txt 151bp       151bp Illumina NovaSeq5000"
      ]
     },
     "metadata": {},
     "output_type": "display_data"
    }
   ],
   "source": [
    "# Download GEO sample metadata to temporary file\n",
    "tmp <- tempfile()\n",
    "download.file('https://ftp.ncbi.nlm.nih.gov/geo/series/GSE144nnn/GSE144281/suppl/GSE144281_chymera_sample_key.txt.gz', tmp)\n",
    "\n",
    "# Read temporary file in data frame and write to metadata directory\n",
    "GSE144281_sample_key <-  read.csv(gzfile(tmp), sep = \"\\t\", header = T)\n",
    "write.table(GSE144281_sample_key, 'GSE144281_chymera_sample_key.txt', sep = \"\\t\", quote = F, row.names = F)\n",
    "\n",
    "# Preview data\n",
    "head(GSE144281_sample_key)"
   ]
  },
  {
   "cell_type": "markdown",
   "id": "caaa100c-91a4-40d0-ba0d-fbea7eaafc25",
   "metadata": {},
   "source": [
    "4. Read in run metadata downloaded separately from [SRA project PRJNA603290](https://www.ncbi.nlm.nih.gov/Traces/study/?acc=PRJNA603290&o=acc_s%3Aa)."
   ]
  },
  {
   "cell_type": "code",
   "execution_count": 4,
   "id": "a5f3f037-55b2-48ce-9522-83cc4e4b2ca1",
   "metadata": {},
   "outputs": [
    {
     "data": {
      "text/html": [
       "<table class=\"dataframe\">\n",
       "<caption>A data.frame: 6 × 30</caption>\n",
       "<thead>\n",
       "\t<tr><th></th><th scope=col>Run</th><th scope=col>Assay.Type</th><th scope=col>AvgSpotLen</th><th scope=col>Bases</th><th scope=col>BioProject</th><th scope=col>BioSample</th><th scope=col>Bytes</th><th scope=col>Center.Name</th><th scope=col>Consent</th><th scope=col>DATASTORE.filetype</th><th scope=col>⋯</th><th scope=col>ReleaseDate</th><th scope=col>Sample.Name</th><th scope=col>SRA.Study</th><th scope=col>annotation_file</th><th scope=col>cas_protein</th><th scope=col>Cell_Line</th><th scope=col>crispr_library</th><th scope=col>library_file</th><th scope=col>source_name</th><th scope=col>treatment</th></tr>\n",
       "\t<tr><th></th><th scope=col>&lt;chr&gt;</th><th scope=col>&lt;chr&gt;</th><th scope=col>&lt;int&gt;</th><th scope=col>&lt;dbl&gt;</th><th scope=col>&lt;chr&gt;</th><th scope=col>&lt;chr&gt;</th><th scope=col>&lt;dbl&gt;</th><th scope=col>&lt;chr&gt;</th><th scope=col>&lt;chr&gt;</th><th scope=col>&lt;chr&gt;</th><th scope=col>⋯</th><th scope=col>&lt;chr&gt;</th><th scope=col>&lt;chr&gt;</th><th scope=col>&lt;chr&gt;</th><th scope=col>&lt;chr&gt;</th><th scope=col>&lt;chr&gt;</th><th scope=col>&lt;chr&gt;</th><th scope=col>&lt;chr&gt;</th><th scope=col>&lt;chr&gt;</th><th scope=col>&lt;chr&gt;</th><th scope=col>&lt;chr&gt;</th></tr>\n",
       "</thead>\n",
       "<tbody>\n",
       "\t<tr><th scope=row>1</th><td>SRR10969567</td><td>OTHER</td><td>295</td><td>16450165253</td><td>PRJNA603290</td><td>SAMN13927460</td><td> 6140557629</td><td>GEO</td><td>public</td><td>fastq,sra</td><td>⋯</td><td>2020-02-04T00:00:00Z</td><td>GSM4284922</td><td>SRP245362</td><td>human_optimization_libV7_annot.txt</td><td>LbCas12a</td><td>HAP1</td><td>CHyMErA Human Optimization Libary</td><td>human_optimization_libV7_guides.fasta</td><td>dual-guide amplicon</td><td>non-treated</td></tr>\n",
       "\t<tr><th scope=row>2</th><td>SRR10969568</td><td>OTHER</td><td>297</td><td>14048233088</td><td>PRJNA603290</td><td>SAMN13927460</td><td> 5281661513</td><td>GEO</td><td>public</td><td>fastq,sra</td><td>⋯</td><td>2020-02-04T00:00:00Z</td><td>GSM4284922</td><td>SRP245362</td><td>human_optimization_libV7_annot.txt</td><td>LbCas12a</td><td>HAP1</td><td>CHyMErA Human Optimization Libary</td><td>human_optimization_libV7_guides.fasta</td><td>dual-guide amplicon</td><td>non-treated</td></tr>\n",
       "\t<tr><th scope=row>3</th><td>SRR10969569</td><td>OTHER</td><td>260</td><td>75964566399</td><td>PRJNA603290</td><td>SAMN13927460</td><td>28455240865</td><td>GEO</td><td>public</td><td>fastq,sra</td><td>⋯</td><td>2020-02-04T00:00:00Z</td><td>GSM4284922</td><td>SRP245362</td><td>human_optimization_libV7_annot.txt</td><td>LbCas12a</td><td>HAP1</td><td>CHyMErA Human Optimization Libary</td><td>human_optimization_libV7_guides.fasta</td><td>dual-guide amplicon</td><td>non-treated</td></tr>\n",
       "\t<tr><th scope=row>4</th><td>SRR10969570</td><td>OTHER</td><td>300</td><td>12194668141</td><td>PRJNA603290</td><td>SAMN13927460</td><td> 4502839618</td><td>GEO</td><td>public</td><td>fastq,sra</td><td>⋯</td><td>2020-02-04T00:00:00Z</td><td>GSM4284922</td><td>SRP245362</td><td>human_optimization_libV7_annot.txt</td><td>LbCas12a</td><td>HAP1</td><td>CHyMErA Human Optimization Libary</td><td>human_optimization_libV7_guides.fasta</td><td>dual-guide amplicon</td><td>non-treated</td></tr>\n",
       "\t<tr><th scope=row>5</th><td>SRR10969571</td><td>OTHER</td><td>292</td><td>12109078531</td><td>PRJNA603290</td><td>SAMN13927460</td><td> 4612455213</td><td>GEO</td><td>public</td><td>fastq,sra</td><td>⋯</td><td>2020-02-04T00:00:00Z</td><td>GSM4284922</td><td>SRP245362</td><td>human_optimization_libV7_annot.txt</td><td>LbCas12a</td><td>HAP1</td><td>CHyMErA Human Optimization Libary</td><td>human_optimization_libV7_guides.fasta</td><td>dual-guide amplicon</td><td>non-treated</td></tr>\n",
       "\t<tr><th scope=row>6</th><td>SRR10969572</td><td>OTHER</td><td>292</td><td>13377172364</td><td>PRJNA603290</td><td>SAMN13927460</td><td> 4925672548</td><td>GEO</td><td>public</td><td>fastq,sra</td><td>⋯</td><td>2020-02-04T00:00:00Z</td><td>GSM4284922</td><td>SRP245362</td><td>human_optimization_libV7_annot.txt</td><td>LbCas12a</td><td>HAP1</td><td>CHyMErA Human Optimization Libary</td><td>human_optimization_libV7_guides.fasta</td><td>dual-guide amplicon</td><td>non-treated</td></tr>\n",
       "</tbody>\n",
       "</table>\n"
      ],
      "text/latex": [
       "A data.frame: 6 × 30\n",
       "\\begin{tabular}{r|lllllllllllllllllllll}\n",
       "  & Run & Assay.Type & AvgSpotLen & Bases & BioProject & BioSample & Bytes & Center.Name & Consent & DATASTORE.filetype & ⋯ & ReleaseDate & Sample.Name & SRA.Study & annotation\\_file & cas\\_protein & Cell\\_Line & crispr\\_library & library\\_file & source\\_name & treatment\\\\\n",
       "  & <chr> & <chr> & <int> & <dbl> & <chr> & <chr> & <dbl> & <chr> & <chr> & <chr> & ⋯ & <chr> & <chr> & <chr> & <chr> & <chr> & <chr> & <chr> & <chr> & <chr> & <chr>\\\\\n",
       "\\hline\n",
       "\t1 & SRR10969567 & OTHER & 295 & 16450165253 & PRJNA603290 & SAMN13927460 &  6140557629 & GEO & public & fastq,sra & ⋯ & 2020-02-04T00:00:00Z & GSM4284922 & SRP245362 & human\\_optimization\\_libV7\\_annot.txt & LbCas12a & HAP1 & CHyMErA Human Optimization Libary & human\\_optimization\\_libV7\\_guides.fasta & dual-guide amplicon & non-treated\\\\\n",
       "\t2 & SRR10969568 & OTHER & 297 & 14048233088 & PRJNA603290 & SAMN13927460 &  5281661513 & GEO & public & fastq,sra & ⋯ & 2020-02-04T00:00:00Z & GSM4284922 & SRP245362 & human\\_optimization\\_libV7\\_annot.txt & LbCas12a & HAP1 & CHyMErA Human Optimization Libary & human\\_optimization\\_libV7\\_guides.fasta & dual-guide amplicon & non-treated\\\\\n",
       "\t3 & SRR10969569 & OTHER & 260 & 75964566399 & PRJNA603290 & SAMN13927460 & 28455240865 & GEO & public & fastq,sra & ⋯ & 2020-02-04T00:00:00Z & GSM4284922 & SRP245362 & human\\_optimization\\_libV7\\_annot.txt & LbCas12a & HAP1 & CHyMErA Human Optimization Libary & human\\_optimization\\_libV7\\_guides.fasta & dual-guide amplicon & non-treated\\\\\n",
       "\t4 & SRR10969570 & OTHER & 300 & 12194668141 & PRJNA603290 & SAMN13927460 &  4502839618 & GEO & public & fastq,sra & ⋯ & 2020-02-04T00:00:00Z & GSM4284922 & SRP245362 & human\\_optimization\\_libV7\\_annot.txt & LbCas12a & HAP1 & CHyMErA Human Optimization Libary & human\\_optimization\\_libV7\\_guides.fasta & dual-guide amplicon & non-treated\\\\\n",
       "\t5 & SRR10969571 & OTHER & 292 & 12109078531 & PRJNA603290 & SAMN13927460 &  4612455213 & GEO & public & fastq,sra & ⋯ & 2020-02-04T00:00:00Z & GSM4284922 & SRP245362 & human\\_optimization\\_libV7\\_annot.txt & LbCas12a & HAP1 & CHyMErA Human Optimization Libary & human\\_optimization\\_libV7\\_guides.fasta & dual-guide amplicon & non-treated\\\\\n",
       "\t6 & SRR10969572 & OTHER & 292 & 13377172364 & PRJNA603290 & SAMN13927460 &  4925672548 & GEO & public & fastq,sra & ⋯ & 2020-02-04T00:00:00Z & GSM4284922 & SRP245362 & human\\_optimization\\_libV7\\_annot.txt & LbCas12a & HAP1 & CHyMErA Human Optimization Libary & human\\_optimization\\_libV7\\_guides.fasta & dual-guide amplicon & non-treated\\\\\n",
       "\\end{tabular}\n"
      ],
      "text/markdown": [
       "\n",
       "A data.frame: 6 × 30\n",
       "\n",
       "| <!--/--> | Run &lt;chr&gt; | Assay.Type &lt;chr&gt; | AvgSpotLen &lt;int&gt; | Bases &lt;dbl&gt; | BioProject &lt;chr&gt; | BioSample &lt;chr&gt; | Bytes &lt;dbl&gt; | Center.Name &lt;chr&gt; | Consent &lt;chr&gt; | DATASTORE.filetype &lt;chr&gt; | ⋯ ⋯ | ReleaseDate &lt;chr&gt; | Sample.Name &lt;chr&gt; | SRA.Study &lt;chr&gt; | annotation_file &lt;chr&gt; | cas_protein &lt;chr&gt; | Cell_Line &lt;chr&gt; | crispr_library &lt;chr&gt; | library_file &lt;chr&gt; | source_name &lt;chr&gt; | treatment &lt;chr&gt; |\n",
       "|---|---|---|---|---|---|---|---|---|---|---|---|---|---|---|---|---|---|---|---|---|---|\n",
       "| 1 | SRR10969567 | OTHER | 295 | 16450165253 | PRJNA603290 | SAMN13927460 |  6140557629 | GEO | public | fastq,sra | ⋯ | 2020-02-04T00:00:00Z | GSM4284922 | SRP245362 | human_optimization_libV7_annot.txt | LbCas12a | HAP1 | CHyMErA Human Optimization Libary | human_optimization_libV7_guides.fasta | dual-guide amplicon | non-treated |\n",
       "| 2 | SRR10969568 | OTHER | 297 | 14048233088 | PRJNA603290 | SAMN13927460 |  5281661513 | GEO | public | fastq,sra | ⋯ | 2020-02-04T00:00:00Z | GSM4284922 | SRP245362 | human_optimization_libV7_annot.txt | LbCas12a | HAP1 | CHyMErA Human Optimization Libary | human_optimization_libV7_guides.fasta | dual-guide amplicon | non-treated |\n",
       "| 3 | SRR10969569 | OTHER | 260 | 75964566399 | PRJNA603290 | SAMN13927460 | 28455240865 | GEO | public | fastq,sra | ⋯ | 2020-02-04T00:00:00Z | GSM4284922 | SRP245362 | human_optimization_libV7_annot.txt | LbCas12a | HAP1 | CHyMErA Human Optimization Libary | human_optimization_libV7_guides.fasta | dual-guide amplicon | non-treated |\n",
       "| 4 | SRR10969570 | OTHER | 300 | 12194668141 | PRJNA603290 | SAMN13927460 |  4502839618 | GEO | public | fastq,sra | ⋯ | 2020-02-04T00:00:00Z | GSM4284922 | SRP245362 | human_optimization_libV7_annot.txt | LbCas12a | HAP1 | CHyMErA Human Optimization Libary | human_optimization_libV7_guides.fasta | dual-guide amplicon | non-treated |\n",
       "| 5 | SRR10969571 | OTHER | 292 | 12109078531 | PRJNA603290 | SAMN13927460 |  4612455213 | GEO | public | fastq,sra | ⋯ | 2020-02-04T00:00:00Z | GSM4284922 | SRP245362 | human_optimization_libV7_annot.txt | LbCas12a | HAP1 | CHyMErA Human Optimization Libary | human_optimization_libV7_guides.fasta | dual-guide amplicon | non-treated |\n",
       "| 6 | SRR10969572 | OTHER | 292 | 13377172364 | PRJNA603290 | SAMN13927460 |  4925672548 | GEO | public | fastq,sra | ⋯ | 2020-02-04T00:00:00Z | GSM4284922 | SRP245362 | human_optimization_libV7_annot.txt | LbCas12a | HAP1 | CHyMErA Human Optimization Libary | human_optimization_libV7_guides.fasta | dual-guide amplicon | non-treated |\n",
       "\n"
      ],
      "text/plain": [
       "  Run         Assay.Type AvgSpotLen Bases       BioProject  BioSample   \n",
       "1 SRR10969567 OTHER      295        16450165253 PRJNA603290 SAMN13927460\n",
       "2 SRR10969568 OTHER      297        14048233088 PRJNA603290 SAMN13927460\n",
       "3 SRR10969569 OTHER      260        75964566399 PRJNA603290 SAMN13927460\n",
       "4 SRR10969570 OTHER      300        12194668141 PRJNA603290 SAMN13927460\n",
       "5 SRR10969571 OTHER      292        12109078531 PRJNA603290 SAMN13927460\n",
       "6 SRR10969572 OTHER      292        13377172364 PRJNA603290 SAMN13927460\n",
       "  Bytes       Center.Name Consent DATASTORE.filetype ⋯ ReleaseDate         \n",
       "1  6140557629 GEO         public  fastq,sra          ⋯ 2020-02-04T00:00:00Z\n",
       "2  5281661513 GEO         public  fastq,sra          ⋯ 2020-02-04T00:00:00Z\n",
       "3 28455240865 GEO         public  fastq,sra          ⋯ 2020-02-04T00:00:00Z\n",
       "4  4502839618 GEO         public  fastq,sra          ⋯ 2020-02-04T00:00:00Z\n",
       "5  4612455213 GEO         public  fastq,sra          ⋯ 2020-02-04T00:00:00Z\n",
       "6  4925672548 GEO         public  fastq,sra          ⋯ 2020-02-04T00:00:00Z\n",
       "  Sample.Name SRA.Study annotation_file                    cas_protein\n",
       "1 GSM4284922  SRP245362 human_optimization_libV7_annot.txt LbCas12a   \n",
       "2 GSM4284922  SRP245362 human_optimization_libV7_annot.txt LbCas12a   \n",
       "3 GSM4284922  SRP245362 human_optimization_libV7_annot.txt LbCas12a   \n",
       "4 GSM4284922  SRP245362 human_optimization_libV7_annot.txt LbCas12a   \n",
       "5 GSM4284922  SRP245362 human_optimization_libV7_annot.txt LbCas12a   \n",
       "6 GSM4284922  SRP245362 human_optimization_libV7_annot.txt LbCas12a   \n",
       "  Cell_Line crispr_library                   \n",
       "1 HAP1      CHyMErA Human Optimization Libary\n",
       "2 HAP1      CHyMErA Human Optimization Libary\n",
       "3 HAP1      CHyMErA Human Optimization Libary\n",
       "4 HAP1      CHyMErA Human Optimization Libary\n",
       "5 HAP1      CHyMErA Human Optimization Libary\n",
       "6 HAP1      CHyMErA Human Optimization Libary\n",
       "  library_file                          source_name         treatment  \n",
       "1 human_optimization_libV7_guides.fasta dual-guide amplicon non-treated\n",
       "2 human_optimization_libV7_guides.fasta dual-guide amplicon non-treated\n",
       "3 human_optimization_libV7_guides.fasta dual-guide amplicon non-treated\n",
       "4 human_optimization_libV7_guides.fasta dual-guide amplicon non-treated\n",
       "5 human_optimization_libV7_guides.fasta dual-guide amplicon non-treated\n",
       "6 human_optimization_libV7_guides.fasta dual-guide amplicon non-treated"
      ]
     },
     "metadata": {},
     "output_type": "display_data"
    }
   ],
   "source": [
    "# SRA project metadata downloaded directly from SRA\n",
    "# Read SRA project metadata into data frame\n",
    "PRJNA603290 <- read.csv('PRJNA603290_SRA_metadata.csv', header = T)\n",
    "\n",
    "# Preview data\n",
    "head(PRJNA603290)"
   ]
  },
  {
   "cell_type": "markdown",
   "id": "d43e052c-14a0-4b78-ac11-6ffa29f0cee2",
   "metadata": {},
   "source": [
    "5. Combine SRA sample mapping to SRA and GEO metadata."
   ]
  },
  {
   "cell_type": "code",
   "execution_count": 5,
   "id": "c569888d-1f07-44c7-8d5e-74ec0e095cb4",
   "metadata": {},
   "outputs": [
    {
     "data": {
      "text/html": [
       "<table class=\"dataframe\">\n",
       "<caption>A data.frame: 6 × 42</caption>\n",
       "<thead>\n",
       "\t<tr><th></th><th scope=col>Sample.ID</th><th scope=col>Run</th><th scope=col>Dataset</th><th scope=col>Sample.Name</th><th scope=col>Label</th><th scope=col>R1</th><th scope=col>R2</th><th scope=col>md5sum.R1</th><th scope=col>md5sum.R2</th><th scope=col>Summary.File</th><th scope=col>⋯</th><th scope=col>ReleaseDate</th><th scope=col>GEO.Sample.Name</th><th scope=col>SRA.Study</th><th scope=col>annotation_file</th><th scope=col>cas_protein</th><th scope=col>Cell_Line</th><th scope=col>crispr_library</th><th scope=col>library_file</th><th scope=col>source_name</th><th scope=col>treatment</th></tr>\n",
       "\t<tr><th></th><th scope=col>&lt;chr&gt;</th><th scope=col>&lt;chr&gt;</th><th scope=col>&lt;chr&gt;</th><th scope=col>&lt;chr&gt;</th><th scope=col>&lt;chr&gt;</th><th scope=col>&lt;chr&gt;</th><th scope=col>&lt;chr&gt;</th><th scope=col>&lt;chr&gt;</th><th scope=col>&lt;chr&gt;</th><th scope=col>&lt;chr&gt;</th><th scope=col>⋯</th><th scope=col>&lt;chr&gt;</th><th scope=col>&lt;chr&gt;</th><th scope=col>&lt;chr&gt;</th><th scope=col>&lt;chr&gt;</th><th scope=col>&lt;chr&gt;</th><th scope=col>&lt;chr&gt;</th><th scope=col>&lt;chr&gt;</th><th scope=col>&lt;chr&gt;</th><th scope=col>&lt;chr&gt;</th><th scope=col>&lt;chr&gt;</th></tr>\n",
       "</thead>\n",
       "<tbody>\n",
       "\t<tr><th scope=row>1</th><td>HH-79</td><td>SRR10969645</td><td>HumanParalogScreen_NovaSeq_20181109</td><td><span style=white-space:pre-wrap>HAP1 Paralogue/Dual T0  </span></td><td></td><td>Moffat_HH-79_S1_R1_001.fastq.gz</td><td>Moffat_HH-79_S1_R2_001.fastq.gz</td><td>86086da3a6812f925cb310584ed98998</td><td>90feaecdf3bcc0a4331c9cf0e00f66de</td><td>HH-79_counts.txt</td><td>⋯</td><td>2020-02-04T00:00:00Z</td><td>GSM4284932</td><td>SRP245362</td><td>human_dualTargetingParalog_libV3_annot.txt</td><td>LbCas12a</td><td>HAP1</td><td>CHyMErA Dual-Targeting &amp; Paralog Library</td><td>human_dualTargetingParalog_libV3_guides.fasta</td><td>dual-guide amplicon</td><td>non-treated</td></tr>\n",
       "\t<tr><th scope=row>2</th><td>HH-80</td><td>SRR10969649</td><td>HumanParalogScreen_NovaSeq_20181109</td><td>HAP1 Paralogue/Dual T18A</td><td></td><td>Moffat_HH-80_S2_R1_001.fastq.gz</td><td>Moffat_HH-80_S2_R2_001.fastq.gz</td><td>8361ecc9327f3e433495496dc48c5205</td><td>3a9f8791a79e041e264698517c4450cf</td><td>HH-80_counts.txt</td><td>⋯</td><td>2020-02-04T00:00:00Z</td><td>GSM4284932</td><td>SRP245362</td><td>human_dualTargetingParalog_libV3_annot.txt</td><td>LbCas12a</td><td>HAP1</td><td>CHyMErA Dual-Targeting &amp; Paralog Library</td><td>human_dualTargetingParalog_libV3_guides.fasta</td><td>dual-guide amplicon</td><td>non-treated</td></tr>\n",
       "\t<tr><th scope=row>3</th><td>HH-81</td><td>SRR10969650</td><td>HumanParalogScreen_NovaSeq_20181109</td><td>HAP1 Paralogue/Dual T18B</td><td></td><td>Moffat_HH-81_S3_R1_001.fastq.gz</td><td>Moffat_HH-81_S3_R2_001.fastq.gz</td><td>96c53d3db54583397376705003702a24</td><td>cb493111b507ab9b23e497e4edcea4fa</td><td>HH-81_counts.txt</td><td>⋯</td><td>2020-02-04T00:00:00Z</td><td>GSM4284932</td><td>SRP245362</td><td>human_dualTargetingParalog_libV3_annot.txt</td><td>LbCas12a</td><td>HAP1</td><td>CHyMErA Dual-Targeting &amp; Paralog Library</td><td>human_dualTargetingParalog_libV3_guides.fasta</td><td>dual-guide amplicon</td><td>non-treated</td></tr>\n",
       "\t<tr><th scope=row>4</th><td>HH-82</td><td>SRR10969651</td><td>HumanParalogScreen_NovaSeq_20181109</td><td>HAP1 Paralogue/Dual T18C</td><td></td><td>Moffat_HH-82_S4_R1_001.fastq.gz</td><td>Moffat_HH-82_S4_R2_001.fastq.gz</td><td>5db539774d53d93c41265f640babb6e4</td><td>a8c3a9370d01582df728a7fdec0c47c1</td><td>HH-82_counts.txt</td><td>⋯</td><td>2020-02-04T00:00:00Z</td><td>GSM4284932</td><td>SRP245362</td><td>human_dualTargetingParalog_libV3_annot.txt</td><td>LbCas12a</td><td>HAP1</td><td>CHyMErA Dual-Targeting &amp; Paralog Library</td><td>human_dualTargetingParalog_libV3_guides.fasta</td><td>dual-guide amplicon</td><td>non-treated</td></tr>\n",
       "\t<tr><th scope=row>5</th><td>HH-83</td><td>SRR10969661</td><td>HumanParalogScreen_NovaSeq_20181109</td><td><span style=white-space:pre-wrap>RPE1 Paralogue/Dual T0  </span></td><td></td><td>Moffat_HH-83_S5_R1_001.fastq.gz</td><td>Moffat_HH-83_S5_R2_001.fastq.gz</td><td>2d4e3802336532ff2bbfaef25c1bb6cb</td><td>88befb772811bef0b6bce537dd67cf49</td><td>HH-83_counts.txt</td><td>⋯</td><td>2020-02-04T00:00:00Z</td><td>GSM4284934</td><td>SRP245362</td><td>human_dualTargetingParalog_libV3_annot.txt</td><td>LbCas12a</td><td>RPE1</td><td>CHyMErA Dual-Targeting &amp; Paralog Library</td><td>human_dualTargetingParalog_libV3_guides.fasta</td><td>dual-guide amplicon</td><td>non-treated</td></tr>\n",
       "\t<tr><th scope=row>6</th><td>HH-84</td><td>SRR10969665</td><td>HumanParalogScreen_NovaSeq_20181109</td><td>RPE1 Paralogue/Dual T24A</td><td></td><td>Moffat_HH-84_S6_R1_001.fastq.gz</td><td>Moffat_HH-84_S6_R2_001.fastq.gz</td><td>249822c500ab5c6ff8dbb5e47606d5a6</td><td>43dc730005ac251ea6dbc95e8d3cd8d3</td><td>HH-84_counts.txt</td><td>⋯</td><td>2020-02-04T00:00:00Z</td><td>GSM4284934</td><td>SRP245362</td><td>human_dualTargetingParalog_libV3_annot.txt</td><td>LbCas12a</td><td>RPE1</td><td>CHyMErA Dual-Targeting &amp; Paralog Library</td><td>human_dualTargetingParalog_libV3_guides.fasta</td><td>dual-guide amplicon</td><td>non-treated</td></tr>\n",
       "</tbody>\n",
       "</table>\n"
      ],
      "text/latex": [
       "A data.frame: 6 × 42\n",
       "\\begin{tabular}{r|lllllllllllllllllllll}\n",
       "  & Sample.ID & Run & Dataset & Sample.Name & Label & R1 & R2 & md5sum.R1 & md5sum.R2 & Summary.File & ⋯ & ReleaseDate & GEO.Sample.Name & SRA.Study & annotation\\_file & cas\\_protein & Cell\\_Line & crispr\\_library & library\\_file & source\\_name & treatment\\\\\n",
       "  & <chr> & <chr> & <chr> & <chr> & <chr> & <chr> & <chr> & <chr> & <chr> & <chr> & ⋯ & <chr> & <chr> & <chr> & <chr> & <chr> & <chr> & <chr> & <chr> & <chr> & <chr>\\\\\n",
       "\\hline\n",
       "\t1 & HH-79 & SRR10969645 & HumanParalogScreen\\_NovaSeq\\_20181109 & HAP1 Paralogue/Dual T0   &  & Moffat\\_HH-79\\_S1\\_R1\\_001.fastq.gz & Moffat\\_HH-79\\_S1\\_R2\\_001.fastq.gz & 86086da3a6812f925cb310584ed98998 & 90feaecdf3bcc0a4331c9cf0e00f66de & HH-79\\_counts.txt & ⋯ & 2020-02-04T00:00:00Z & GSM4284932 & SRP245362 & human\\_dualTargetingParalog\\_libV3\\_annot.txt & LbCas12a & HAP1 & CHyMErA Dual-Targeting \\& Paralog Library & human\\_dualTargetingParalog\\_libV3\\_guides.fasta & dual-guide amplicon & non-treated\\\\\n",
       "\t2 & HH-80 & SRR10969649 & HumanParalogScreen\\_NovaSeq\\_20181109 & HAP1 Paralogue/Dual T18A &  & Moffat\\_HH-80\\_S2\\_R1\\_001.fastq.gz & Moffat\\_HH-80\\_S2\\_R2\\_001.fastq.gz & 8361ecc9327f3e433495496dc48c5205 & 3a9f8791a79e041e264698517c4450cf & HH-80\\_counts.txt & ⋯ & 2020-02-04T00:00:00Z & GSM4284932 & SRP245362 & human\\_dualTargetingParalog\\_libV3\\_annot.txt & LbCas12a & HAP1 & CHyMErA Dual-Targeting \\& Paralog Library & human\\_dualTargetingParalog\\_libV3\\_guides.fasta & dual-guide amplicon & non-treated\\\\\n",
       "\t3 & HH-81 & SRR10969650 & HumanParalogScreen\\_NovaSeq\\_20181109 & HAP1 Paralogue/Dual T18B &  & Moffat\\_HH-81\\_S3\\_R1\\_001.fastq.gz & Moffat\\_HH-81\\_S3\\_R2\\_001.fastq.gz & 96c53d3db54583397376705003702a24 & cb493111b507ab9b23e497e4edcea4fa & HH-81\\_counts.txt & ⋯ & 2020-02-04T00:00:00Z & GSM4284932 & SRP245362 & human\\_dualTargetingParalog\\_libV3\\_annot.txt & LbCas12a & HAP1 & CHyMErA Dual-Targeting \\& Paralog Library & human\\_dualTargetingParalog\\_libV3\\_guides.fasta & dual-guide amplicon & non-treated\\\\\n",
       "\t4 & HH-82 & SRR10969651 & HumanParalogScreen\\_NovaSeq\\_20181109 & HAP1 Paralogue/Dual T18C &  & Moffat\\_HH-82\\_S4\\_R1\\_001.fastq.gz & Moffat\\_HH-82\\_S4\\_R2\\_001.fastq.gz & 5db539774d53d93c41265f640babb6e4 & a8c3a9370d01582df728a7fdec0c47c1 & HH-82\\_counts.txt & ⋯ & 2020-02-04T00:00:00Z & GSM4284932 & SRP245362 & human\\_dualTargetingParalog\\_libV3\\_annot.txt & LbCas12a & HAP1 & CHyMErA Dual-Targeting \\& Paralog Library & human\\_dualTargetingParalog\\_libV3\\_guides.fasta & dual-guide amplicon & non-treated\\\\\n",
       "\t5 & HH-83 & SRR10969661 & HumanParalogScreen\\_NovaSeq\\_20181109 & RPE1 Paralogue/Dual T0   &  & Moffat\\_HH-83\\_S5\\_R1\\_001.fastq.gz & Moffat\\_HH-83\\_S5\\_R2\\_001.fastq.gz & 2d4e3802336532ff2bbfaef25c1bb6cb & 88befb772811bef0b6bce537dd67cf49 & HH-83\\_counts.txt & ⋯ & 2020-02-04T00:00:00Z & GSM4284934 & SRP245362 & human\\_dualTargetingParalog\\_libV3\\_annot.txt & LbCas12a & RPE1 & CHyMErA Dual-Targeting \\& Paralog Library & human\\_dualTargetingParalog\\_libV3\\_guides.fasta & dual-guide amplicon & non-treated\\\\\n",
       "\t6 & HH-84 & SRR10969665 & HumanParalogScreen\\_NovaSeq\\_20181109 & RPE1 Paralogue/Dual T24A &  & Moffat\\_HH-84\\_S6\\_R1\\_001.fastq.gz & Moffat\\_HH-84\\_S6\\_R2\\_001.fastq.gz & 249822c500ab5c6ff8dbb5e47606d5a6 & 43dc730005ac251ea6dbc95e8d3cd8d3 & HH-84\\_counts.txt & ⋯ & 2020-02-04T00:00:00Z & GSM4284934 & SRP245362 & human\\_dualTargetingParalog\\_libV3\\_annot.txt & LbCas12a & RPE1 & CHyMErA Dual-Targeting \\& Paralog Library & human\\_dualTargetingParalog\\_libV3\\_guides.fasta & dual-guide amplicon & non-treated\\\\\n",
       "\\end{tabular}\n"
      ],
      "text/markdown": [
       "\n",
       "A data.frame: 6 × 42\n",
       "\n",
       "| <!--/--> | Sample.ID &lt;chr&gt; | Run &lt;chr&gt; | Dataset &lt;chr&gt; | Sample.Name &lt;chr&gt; | Label &lt;chr&gt; | R1 &lt;chr&gt; | R2 &lt;chr&gt; | md5sum.R1 &lt;chr&gt; | md5sum.R2 &lt;chr&gt; | Summary.File &lt;chr&gt; | ⋯ ⋯ | ReleaseDate &lt;chr&gt; | GEO.Sample.Name &lt;chr&gt; | SRA.Study &lt;chr&gt; | annotation_file &lt;chr&gt; | cas_protein &lt;chr&gt; | Cell_Line &lt;chr&gt; | crispr_library &lt;chr&gt; | library_file &lt;chr&gt; | source_name &lt;chr&gt; | treatment &lt;chr&gt; |\n",
       "|---|---|---|---|---|---|---|---|---|---|---|---|---|---|---|---|---|---|---|---|---|---|\n",
       "| 1 | HH-79 | SRR10969645 | HumanParalogScreen_NovaSeq_20181109 | HAP1 Paralogue/Dual T0   | <!----> | Moffat_HH-79_S1_R1_001.fastq.gz | Moffat_HH-79_S1_R2_001.fastq.gz | 86086da3a6812f925cb310584ed98998 | 90feaecdf3bcc0a4331c9cf0e00f66de | HH-79_counts.txt | ⋯ | 2020-02-04T00:00:00Z | GSM4284932 | SRP245362 | human_dualTargetingParalog_libV3_annot.txt | LbCas12a | HAP1 | CHyMErA Dual-Targeting &amp; Paralog Library | human_dualTargetingParalog_libV3_guides.fasta | dual-guide amplicon | non-treated |\n",
       "| 2 | HH-80 | SRR10969649 | HumanParalogScreen_NovaSeq_20181109 | HAP1 Paralogue/Dual T18A | <!----> | Moffat_HH-80_S2_R1_001.fastq.gz | Moffat_HH-80_S2_R2_001.fastq.gz | 8361ecc9327f3e433495496dc48c5205 | 3a9f8791a79e041e264698517c4450cf | HH-80_counts.txt | ⋯ | 2020-02-04T00:00:00Z | GSM4284932 | SRP245362 | human_dualTargetingParalog_libV3_annot.txt | LbCas12a | HAP1 | CHyMErA Dual-Targeting &amp; Paralog Library | human_dualTargetingParalog_libV3_guides.fasta | dual-guide amplicon | non-treated |\n",
       "| 3 | HH-81 | SRR10969650 | HumanParalogScreen_NovaSeq_20181109 | HAP1 Paralogue/Dual T18B | <!----> | Moffat_HH-81_S3_R1_001.fastq.gz | Moffat_HH-81_S3_R2_001.fastq.gz | 96c53d3db54583397376705003702a24 | cb493111b507ab9b23e497e4edcea4fa | HH-81_counts.txt | ⋯ | 2020-02-04T00:00:00Z | GSM4284932 | SRP245362 | human_dualTargetingParalog_libV3_annot.txt | LbCas12a | HAP1 | CHyMErA Dual-Targeting &amp; Paralog Library | human_dualTargetingParalog_libV3_guides.fasta | dual-guide amplicon | non-treated |\n",
       "| 4 | HH-82 | SRR10969651 | HumanParalogScreen_NovaSeq_20181109 | HAP1 Paralogue/Dual T18C | <!----> | Moffat_HH-82_S4_R1_001.fastq.gz | Moffat_HH-82_S4_R2_001.fastq.gz | 5db539774d53d93c41265f640babb6e4 | a8c3a9370d01582df728a7fdec0c47c1 | HH-82_counts.txt | ⋯ | 2020-02-04T00:00:00Z | GSM4284932 | SRP245362 | human_dualTargetingParalog_libV3_annot.txt | LbCas12a | HAP1 | CHyMErA Dual-Targeting &amp; Paralog Library | human_dualTargetingParalog_libV3_guides.fasta | dual-guide amplicon | non-treated |\n",
       "| 5 | HH-83 | SRR10969661 | HumanParalogScreen_NovaSeq_20181109 | RPE1 Paralogue/Dual T0   | <!----> | Moffat_HH-83_S5_R1_001.fastq.gz | Moffat_HH-83_S5_R2_001.fastq.gz | 2d4e3802336532ff2bbfaef25c1bb6cb | 88befb772811bef0b6bce537dd67cf49 | HH-83_counts.txt | ⋯ | 2020-02-04T00:00:00Z | GSM4284934 | SRP245362 | human_dualTargetingParalog_libV3_annot.txt | LbCas12a | RPE1 | CHyMErA Dual-Targeting &amp; Paralog Library | human_dualTargetingParalog_libV3_guides.fasta | dual-guide amplicon | non-treated |\n",
       "| 6 | HH-84 | SRR10969665 | HumanParalogScreen_NovaSeq_20181109 | RPE1 Paralogue/Dual T24A | <!----> | Moffat_HH-84_S6_R1_001.fastq.gz | Moffat_HH-84_S6_R2_001.fastq.gz | 249822c500ab5c6ff8dbb5e47606d5a6 | 43dc730005ac251ea6dbc95e8d3cd8d3 | HH-84_counts.txt | ⋯ | 2020-02-04T00:00:00Z | GSM4284934 | SRP245362 | human_dualTargetingParalog_libV3_annot.txt | LbCas12a | RPE1 | CHyMErA Dual-Targeting &amp; Paralog Library | human_dualTargetingParalog_libV3_guides.fasta | dual-guide amplicon | non-treated |\n",
       "\n"
      ],
      "text/plain": [
       "  Sample.ID Run         Dataset                            \n",
       "1 HH-79     SRR10969645 HumanParalogScreen_NovaSeq_20181109\n",
       "2 HH-80     SRR10969649 HumanParalogScreen_NovaSeq_20181109\n",
       "3 HH-81     SRR10969650 HumanParalogScreen_NovaSeq_20181109\n",
       "4 HH-82     SRR10969651 HumanParalogScreen_NovaSeq_20181109\n",
       "5 HH-83     SRR10969661 HumanParalogScreen_NovaSeq_20181109\n",
       "6 HH-84     SRR10969665 HumanParalogScreen_NovaSeq_20181109\n",
       "  Sample.Name              Label R1                             \n",
       "1 HAP1 Paralogue/Dual T0         Moffat_HH-79_S1_R1_001.fastq.gz\n",
       "2 HAP1 Paralogue/Dual T18A       Moffat_HH-80_S2_R1_001.fastq.gz\n",
       "3 HAP1 Paralogue/Dual T18B       Moffat_HH-81_S3_R1_001.fastq.gz\n",
       "4 HAP1 Paralogue/Dual T18C       Moffat_HH-82_S4_R1_001.fastq.gz\n",
       "5 RPE1 Paralogue/Dual T0         Moffat_HH-83_S5_R1_001.fastq.gz\n",
       "6 RPE1 Paralogue/Dual T24A       Moffat_HH-84_S6_R1_001.fastq.gz\n",
       "  R2                              md5sum.R1                       \n",
       "1 Moffat_HH-79_S1_R2_001.fastq.gz 86086da3a6812f925cb310584ed98998\n",
       "2 Moffat_HH-80_S2_R2_001.fastq.gz 8361ecc9327f3e433495496dc48c5205\n",
       "3 Moffat_HH-81_S3_R2_001.fastq.gz 96c53d3db54583397376705003702a24\n",
       "4 Moffat_HH-82_S4_R2_001.fastq.gz 5db539774d53d93c41265f640babb6e4\n",
       "5 Moffat_HH-83_S5_R2_001.fastq.gz 2d4e3802336532ff2bbfaef25c1bb6cb\n",
       "6 Moffat_HH-84_S6_R2_001.fastq.gz 249822c500ab5c6ff8dbb5e47606d5a6\n",
       "  md5sum.R2                        Summary.File     ⋯ ReleaseDate         \n",
       "1 90feaecdf3bcc0a4331c9cf0e00f66de HH-79_counts.txt ⋯ 2020-02-04T00:00:00Z\n",
       "2 3a9f8791a79e041e264698517c4450cf HH-80_counts.txt ⋯ 2020-02-04T00:00:00Z\n",
       "3 cb493111b507ab9b23e497e4edcea4fa HH-81_counts.txt ⋯ 2020-02-04T00:00:00Z\n",
       "4 a8c3a9370d01582df728a7fdec0c47c1 HH-82_counts.txt ⋯ 2020-02-04T00:00:00Z\n",
       "5 88befb772811bef0b6bce537dd67cf49 HH-83_counts.txt ⋯ 2020-02-04T00:00:00Z\n",
       "6 43dc730005ac251ea6dbc95e8d3cd8d3 HH-84_counts.txt ⋯ 2020-02-04T00:00:00Z\n",
       "  GEO.Sample.Name SRA.Study annotation_file                           \n",
       "1 GSM4284932      SRP245362 human_dualTargetingParalog_libV3_annot.txt\n",
       "2 GSM4284932      SRP245362 human_dualTargetingParalog_libV3_annot.txt\n",
       "3 GSM4284932      SRP245362 human_dualTargetingParalog_libV3_annot.txt\n",
       "4 GSM4284932      SRP245362 human_dualTargetingParalog_libV3_annot.txt\n",
       "5 GSM4284934      SRP245362 human_dualTargetingParalog_libV3_annot.txt\n",
       "6 GSM4284934      SRP245362 human_dualTargetingParalog_libV3_annot.txt\n",
       "  cas_protein Cell_Line crispr_library                          \n",
       "1 LbCas12a    HAP1      CHyMErA Dual-Targeting & Paralog Library\n",
       "2 LbCas12a    HAP1      CHyMErA Dual-Targeting & Paralog Library\n",
       "3 LbCas12a    HAP1      CHyMErA Dual-Targeting & Paralog Library\n",
       "4 LbCas12a    HAP1      CHyMErA Dual-Targeting & Paralog Library\n",
       "5 LbCas12a    RPE1      CHyMErA Dual-Targeting & Paralog Library\n",
       "6 LbCas12a    RPE1      CHyMErA Dual-Targeting & Paralog Library\n",
       "  library_file                                  source_name         treatment  \n",
       "1 human_dualTargetingParalog_libV3_guides.fasta dual-guide amplicon non-treated\n",
       "2 human_dualTargetingParalog_libV3_guides.fasta dual-guide amplicon non-treated\n",
       "3 human_dualTargetingParalog_libV3_guides.fasta dual-guide amplicon non-treated\n",
       "4 human_dualTargetingParalog_libV3_guides.fasta dual-guide amplicon non-treated\n",
       "5 human_dualTargetingParalog_libV3_guides.fasta dual-guide amplicon non-treated\n",
       "6 human_dualTargetingParalog_libV3_guides.fasta dual-guide amplicon non-treated"
      ]
     },
     "metadata": {},
     "output_type": "display_data"
    }
   ],
   "source": [
    "# Join manually generated SRA-to-sample ID mapping to GEO sample metadata to get sample labels\n",
    "# Join this to the SRA metadata to get sample-to-fastq mapping\n",
    "sample_metadata <- sra_run_to_sample_id %>%\n",
    "  left_join(GSE144281_sample_key, by = 'Sample.ID') %>% \n",
    "  left_join(PRJNA603290 %>% rename('GEO.Sample.Name' = 'Sample.Name'), by = 'Run')\n",
    "\n",
    "# Preview data\n",
    "head(sample_metadata)"
   ]
  },
  {
   "cell_type": "markdown",
   "id": "52ff8360-5026-4efe-a39d-c48b8b5fd686",
   "metadata": {},
   "source": [
    "6. Write sample metadata to file."
   ]
  },
  {
   "cell_type": "code",
   "execution_count": 6,
   "id": "299b65e5-0b02-4e70-aa58-b787721c2178",
   "metadata": {},
   "outputs": [],
   "source": [
    "write.table(sample_metadata, 'PRJNA603290_GSE144281_sample_metadata.tsv', sep = \"\\t\", row.names = F, quote = F)"
   ]
  }
 ],
 "metadata": {
  "kernelspec": {
   "display_name": "R",
   "language": "R",
   "name": "r"
  },
  "language_info": {
   "codemirror_mode": "r",
   "file_extension": ".r",
   "mimetype": "text/x-r-source",
   "name": "R",
   "pygments_lexer": "r",
   "version": "4.1.2"
  },
  "widgets": {
   "application/vnd.jupyter.widget-state+json": {
    "state": {},
    "version_major": 2,
    "version_minor": 0
   }
  }
 },
 "nbformat": 4,
 "nbformat_minor": 5
}
